{
 "cells": [
  {
   "cell_type": "code",
   "execution_count": null,
   "id": "58f1ed04-3b83-4308-88ac-5650e4623c19",
   "metadata": {},
   "outputs": [],
   "source": [
    "import numpy as np\n",
    "import pandas as pd\n",
    "import matplotlib.pyplot as plt\n",
    "import seaborn as sns"
   ]
  },
  {
   "cell_type": "code",
   "execution_count": null,
   "id": "9d29b596-3e6c-439c-b25d-9048c15f83aa",
   "metadata": {},
   "outputs": [],
   "source": [
    "from ema_workbench import (Model, Policy, ema_logging, \n",
    "                           MultiprocessingEvaluator, save_results)\n",
    "\n",
    "from problem_formulation import get_model_for_problem_formulation"
   ]
  },
  {
   "cell_type": "code",
   "execution_count": null,
   "id": "437973d1-d07b-4027-a1ed-86782eb3ac39",
   "metadata": {},
   "outputs": [],
   "source": [
    "ema_logging.log_to_stderr(ema_logging.INFO)\n",
    "\n",
    "#choose problem formulation number, between 0-5\n",
    "#each problem formulation has its own list of outcomes\n",
    "dike_model, planning_steps = get_model_for_problem_formulation(2)"
   ]
  },
  {
   "cell_type": "code",
   "execution_count": null,
   "id": "480f530f-19a8-4a3c-aef5-9406fd7434e6",
   "metadata": {},
   "outputs": [],
   "source": [
    "import copy\n",
    "    \n",
    "uncertainties = copy.deepcopy(dike_model.uncertainties)"
   ]
  },
  {
   "cell_type": "code",
   "execution_count": null,
   "id": "c980a02d-6e0b-425d-b1ca-522ecef39f51",
   "metadata": {},
   "outputs": [],
   "source": [
    "def get_do_nothing_dict():\n",
    "    return {l.name:0 for l in dike_model.levers}    \n",
    "    \n",
    "policies = [Policy(\"base case\", **dict(get_do_nothing_dict())),\n",
    "            Policy(\"only heighting\", **dict(get_do_nothing_dict(), \n",
    "                                            **{'A.1_DikeIncrease 0':5,\n",
    "                                              'A.1_DikeIncrease 1':5,\n",
    "                                              'A.1_DikeIncrease 2':5,\n",
    "                                              'A.2_DikeIncrease 0':5,\n",
    "                                              'A.2_DikeIncrease 1':5,\n",
    "                                              'A.2_DikeIncrease 2':5,\n",
    "                                              'A.3_DikeIncrease 0':5,\n",
    "                                              'A.3_DikeIncrease 1':5,\n",
    "                                              'A.3_DikeIncrease 2':5,\n",
    "                                              'A.4_DikeIncrease 0':5,\n",
    "                                              'A.4_DikeIncrease 1':5,\n",
    "                                              'A.4_DikeIncrease 2':5,\n",
    "                                              'A.5_DikeIncrease 0':5,\n",
    "                                              'A.5_DikeIncrease 1':5,\n",
    "                                              'A.5_DikeIncrease 2':5})),\n",
    "            Policy(\"only RfR\", **dict(get_do_nothing_dict(), \n",
    "                                      **{'0_RfR 0':1,\n",
    "                                         '0_RfR 1':1,\n",
    "                                         '0_RfR 2':1,\n",
    "                                         '1_RfR 0':1,\n",
    "                                         '1_RfR 1':1,\n",
    "                                         '1_RfR 2':1,\n",
    "                                         '2_RfR 0':1,\n",
    "                                         '2_RfR 1':1,\n",
    "                                         '2_RfR 2':1,\n",
    "                                         '3_RfR 0':1,\n",
    "                                         '3_RfR 1':1,\n",
    "                                         '3_RfR 2':1,\n",
    "                                         '4_RfR 0':1,\n",
    "                                         '4_RfR 1':1,\n",
    "                                         '4_RfR 2':1,\n",
    "                                         '5_RfR 0':1,\n",
    "                                         '5_RfR 1':1,\n",
    "                                         '5_RfR 2':1,\n",
    "                                         '6_RfR 0':1,\n",
    "                                         '6_RfR 1':1,\n",
    "                                         '6_RfR 2':1}))]"
   ]
  },
  {
   "cell_type": "code",
   "execution_count": null,
   "id": "34951ab4-5ff6-4c91-bf46-cfc57101b27a",
   "metadata": {},
   "outputs": [],
   "source": [
    "#running the model through EMA workbench \n",
    "n_scenarios = 10\n",
    "with MultiprocessingEvaluator(dike_model) as evaluator:\n",
    "    results = evaluator.perform_experiments(n_scenarios, policies)"
   ]
  },
  {
   "cell_type": "code",
   "execution_count": null,
   "id": "37c19958-b31d-41d2-8f4d-4382dad039ea",
   "metadata": {},
   "outputs": [],
   "source": [
    "save_results(results, 'open_exporation.tar.gz')"
   ]
  },
  {
   "cell_type": "code",
   "execution_count": null,
   "id": "4bead48d-5d84-47b5-a712-0bbbb1486c26",
   "metadata": {},
   "outputs": [],
   "source": [
    "experiments, outcomes = results\n",
    "policies = experiments['policy']\n",
    "\n",
    "data = pd.DataFrame.from_dict(outcomes)\n",
    "data['policy'] = policies\n",
    "\n",
    "plot = sns.pairplot(data, hue='policy', vars=outcomes.keys(), )\n",
    "plot.savefig(\"open_exp_PF2.png\")\n",
    "plt.show()"
   ]
  },
  {
   "cell_type": "code",
   "execution_count": null,
   "id": "89bcbf87-0752-4326-8e8f-dbb127340024",
   "metadata": {},
   "outputs": [],
   "source": []
  },
  {
   "cell_type": "code",
   "execution_count": null,
   "id": "db7697ac-399f-47e7-b9d9-cd355b6225ca",
   "metadata": {},
   "outputs": [],
   "source": []
  },
  {
   "cell_type": "code",
   "execution_count": null,
   "id": "24995334-0c94-40da-b31a-1cbec4138649",
   "metadata": {},
   "outputs": [],
   "source": []
  }
 ],
 "metadata": {
  "kernelspec": {
   "display_name": "Python 3 (ipykernel)",
   "language": "python",
   "name": "python3"
  },
  "language_info": {
   "codemirror_mode": {
    "name": "ipython",
    "version": 3
   },
   "file_extension": ".py",
   "mimetype": "text/x-python",
   "name": "python",
   "nbconvert_exporter": "python",
   "pygments_lexer": "ipython3",
   "version": "3.9.12"
  }
 },
 "nbformat": 4,
 "nbformat_minor": 5
}
